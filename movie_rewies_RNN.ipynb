{
  "nbformat": 4,
  "nbformat_minor": 0,
  "metadata": {
    "colab": {
      "provenance": [],
      "gpuType": "T4"
    },
    "kernelspec": {
      "name": "python3",
      "display_name": "Python 3"
    },
    "language_info": {
      "name": "python"
    },
    "accelerator": "GPU"
  },
  "cells": [
    {
      "cell_type": "markdown",
      "source": [
        "# **Movie Reviews positive and negative**"
      ],
      "metadata": {
        "id": "h8eYPkIOKcIp"
      }
    },
    {
      "cell_type": "markdown",
      "source": [
        "# **About Dataset**\n",
        "\n",
        "> IMDB dataset having 50K movie reviews for natural language processing or Text analytics.\n",
        "This is a dataset for binary sentiment classification containing substantially more data than previous benchmark datasets. We provide a set of **25,000** highly polar movie reviews for training and **25,000** for testing. So, predict the number of positive and negative reviews using either classification or deep learning algorithms.\n",
        "\n"
      ],
      "metadata": {
        "id": "gC-W45o8_P6v"
      }
    },
    {
      "cell_type": "code",
      "execution_count": null,
      "metadata": {
        "id": "17fxoYFh_G87"
      },
      "outputs": [],
      "source": [
        "# import libraries\n",
        "import tensorflow as tf\n",
        "from tensorflow.keras import datasets, layers, models"
      ]
    },
    {
      "cell_type": "code",
      "source": [],
      "metadata": {
        "id": "8Qbtjxj6_E8s"
      },
      "execution_count": null,
      "outputs": []
    },
    {
      "cell_type": "markdown",
      "source": [
        "# **Load the IMDB dataset**"
      ],
      "metadata": {
        "id": "_AmQSgv5_z6z"
      }
    },
    {
      "cell_type": "code",
      "source": [
        "(train_data, train_labels), (test_data, test_labels) = datasets.imdb.load_data(num_words=20000)"
      ],
      "metadata": {
        "id": "_Pb0-u3t_6Nr",
        "colab": {
          "base_uri": "https://localhost:8080/"
        },
        "outputId": "4d82f364-0d47-4f8d-8987-6fc2f68a608b"
      },
      "execution_count": null,
      "outputs": [
        {
          "output_type": "stream",
          "name": "stdout",
          "text": [
            "Downloading data from https://storage.googleapis.com/tensorflow/tf-keras-datasets/imdb.npz\n",
            "17464789/17464789 [==============================] - 2s 0us/step\n"
          ]
        }
      ]
    },
    {
      "cell_type": "markdown",
      "source": [
        "# **preprocess the data on training and testing**"
      ],
      "metadata": {
        "id": "XufloOdaA63q"
      }
    },
    {
      "cell_type": "code",
      "source": [
        "train_data = tf.keras.preprocessing.sequence.pad_sequences(train_data, maxlen=500)\n",
        "test_data = tf.keras.preprocessing.sequence.pad_sequences(test_data, maxlen=500)"
      ],
      "metadata": {
        "id": "VQTfQ_AvA__m"
      },
      "execution_count": null,
      "outputs": []
    },
    {
      "cell_type": "markdown",
      "source": [
        "# **Define the model**"
      ],
      "metadata": {
        "id": "UuvA4LOcBaH7"
      }
    },
    {
      "cell_type": "code",
      "source": [
        "model = models.Sequential()\n",
        "model.add(layers.Embedding(20000, 32))\n",
        "model.add(layers.SimpleRNN(32))\n",
        "model.add(layers.Dense(1, activation=\"sigmoid\"))"
      ],
      "metadata": {
        "id": "GkV4uKBNBjA4"
      },
      "execution_count": null,
      "outputs": []
    },
    {
      "cell_type": "markdown",
      "source": [
        "# **compile the model**"
      ],
      "metadata": {
        "id": "yqLL5uVbDUeV"
      }
    },
    {
      "cell_type": "code",
      "source": [
        "model.compile(optimizer=\"rmsprop\", loss=\"binary_crossentropy\", metrics=[\"accuracy\"])"
      ],
      "metadata": {
        "id": "W_zifM1eDY6g"
      },
      "execution_count": null,
      "outputs": []
    },
    {
      "cell_type": "markdown",
      "source": [
        "# **train the model**"
      ],
      "metadata": {
        "id": "8G_L-iomEQ3z"
      }
    },
    {
      "cell_type": "code",
      "source": [
        "history = model.fit(train_data, train_labels, epochs=10, validation_split=0.2)"
      ],
      "metadata": {
        "colab": {
          "base_uri": "https://localhost:8080/"
        },
        "id": "FM6RdB1pEaML",
        "outputId": "a4fe10ed-4abd-441f-ca68-cb109774348d"
      },
      "execution_count": null,
      "outputs": [
        {
          "output_type": "stream",
          "name": "stdout",
          "text": [
            "Epoch 1/10\n",
            "625/625 [==============================] - 88s 125ms/step - loss: 0.5870 - accuracy: 0.6672 - val_loss: 0.3967 - val_accuracy: 0.8302\n",
            "Epoch 2/10\n",
            "625/625 [==============================] - 77s 123ms/step - loss: 0.3576 - accuracy: 0.8486 - val_loss: 0.4179 - val_accuracy: 0.8180\n",
            "Epoch 3/10\n",
            "625/625 [==============================] - 77s 123ms/step - loss: 0.2742 - accuracy: 0.8901 - val_loss: 0.3981 - val_accuracy: 0.8236\n",
            "Epoch 4/10\n",
            "625/625 [==============================] - 78s 126ms/step - loss: 0.2133 - accuracy: 0.9183 - val_loss: 0.3882 - val_accuracy: 0.8474\n",
            "Epoch 5/10\n",
            "625/625 [==============================] - 79s 126ms/step - loss: 0.1609 - accuracy: 0.9395 - val_loss: 0.4462 - val_accuracy: 0.8222\n",
            "Epoch 6/10\n",
            "625/625 [==============================] - 79s 126ms/step - loss: 0.1097 - accuracy: 0.9614 - val_loss: 0.5163 - val_accuracy: 0.8196\n",
            "Epoch 7/10\n",
            "625/625 [==============================] - 77s 124ms/step - loss: 0.0721 - accuracy: 0.9746 - val_loss: 0.5196 - val_accuracy: 0.8466\n",
            "Epoch 8/10\n",
            "625/625 [==============================] - 77s 124ms/step - loss: 0.0597 - accuracy: 0.9803 - val_loss: 0.6641 - val_accuracy: 0.8202\n",
            "Epoch 9/10\n",
            "625/625 [==============================] - 77s 124ms/step - loss: 0.0376 - accuracy: 0.9882 - val_loss: 0.6563 - val_accuracy: 0.8544\n",
            "Epoch 10/10\n",
            "625/625 [==============================] - 77s 123ms/step - loss: 0.0233 - accuracy: 0.9927 - val_loss: 0.8338 - val_accuracy: 0.7804\n"
          ]
        }
      ]
    },
    {
      "cell_type": "markdown",
      "source": [
        "# **evaluate model**"
      ],
      "metadata": {
        "id": "3yzukcsaJBn5"
      }
    },
    {
      "cell_type": "code",
      "source": [
        "model.evaluate(train_data, train_labels)\n",
        "print(\"test accuracy\")"
      ],
      "metadata": {
        "colab": {
          "base_uri": "https://localhost:8080/"
        },
        "id": "LDSo3NevIqMV",
        "outputId": "1d07f509-b80b-4a77-c550-f9c309b27acf"
      },
      "execution_count": null,
      "outputs": [
        {
          "output_type": "stream",
          "name": "stdout",
          "text": [
            "782/782 [==============================] - 25s 32ms/step - loss: 0.1772 - accuracy: 0.9533\n",
            "test accuracy\n"
          ]
        }
      ]
    },
    {
      "cell_type": "markdown",
      "source": [
        "# **observation**\n",
        "\n",
        "# training and validation accuracy\n",
        "\n",
        "1.   loss till 10 epochs is: 0.0233\n",
        "2.   accuracy till 10 epochs: 0.9927\n",
        "3.   validation loss till 10 epochs: 0.8338\n",
        "4.   validation loss till 10 epochs: 0.7804\n",
        "\n",
        "\n",
        "# testing accuracy\n",
        "\n",
        "1.   loss is: 0.17\n",
        "2.   accuracy: 0.95\n",
        "\n",
        "\n",
        "\n",
        "\n",
        "\n",
        "\n",
        "\n"
      ],
      "metadata": {
        "id": "vl9gF0YcJJQY"
      }
    }
  ]
}